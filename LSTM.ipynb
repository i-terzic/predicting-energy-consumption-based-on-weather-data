{
 "cells": [
  {
   "cell_type": "code",
   "execution_count": 1,
   "id": "59ef477b",
   "metadata": {},
   "outputs": [
    {
     "name": "stderr",
     "output_type": "stream",
     "text": [
      "2023-10-31 12:49:53.676610: I tensorflow/core/platform/cpu_feature_guard.cc:193] This TensorFlow binary is optimized with oneAPI Deep Neural Network Library (oneDNN) to use the following CPU instructions in performance-critical operations:  SSE4.1 SSE4.2 AVX AVX2 FMA\n",
      "To enable them in other operations, rebuild TensorFlow with the appropriate compiler flags.\n"
     ]
    }
   ],
   "source": [
    "import pandas as pd\n",
    "import matplotlib.pyplot as plt\n",
    "from sklearn.model_selection import train_test_split\n",
    "from keras.preprocessing.sequence import TimeseriesGenerator\n",
    "from sklearn.preprocessing import MinMaxScaler, StandardScaler\n",
    "import tensorflow as tf\n",
    "import pickle"
   ]
  },
  {
   "cell_type": "code",
   "execution_count": 2,
   "id": "7a5191d2",
   "metadata": {},
   "outputs": [],
   "source": [
    "with open(\"./data/heat_data.pkl\", \"rb\") as f:\n",
    "    loaded_heat_data = pickle.load(f)\n",
    "    \n",
    "with open(\"./data/elec_data.pkl\", \"rb\") as f:\n",
    "    loaded_elec_data = pickle.load(f)"
   ]
  },
  {
   "cell_type": "code",
   "execution_count": 3,
   "id": "ad090999",
   "metadata": {},
   "outputs": [
    {
     "data": {
      "text/html": [
       "<div>\n",
       "<style scoped>\n",
       "    .dataframe tbody tr th:only-of-type {\n",
       "        vertical-align: middle;\n",
       "    }\n",
       "\n",
       "    .dataframe tbody tr th {\n",
       "        vertical-align: top;\n",
       "    }\n",
       "\n",
       "    .dataframe thead th {\n",
       "        text-align: right;\n",
       "    }\n",
       "</style>\n",
       "<table border=\"1\" class=\"dataframe\">\n",
       "  <thead>\n",
       "    <tr style=\"text-align: right;\">\n",
       "      <th></th>\n",
       "      <th>relative_humidity[%]</th>\n",
       "      <th>solar_irridiation[W/m²]</th>\n",
       "      <th>electricity_demand_values[kw]</th>\n",
       "      <th>wind_speed_cat[M/S]</th>\n",
       "    </tr>\n",
       "    <tr>\n",
       "      <th>DATETIME_NUMERIC</th>\n",
       "      <th></th>\n",
       "      <th></th>\n",
       "      <th></th>\n",
       "      <th></th>\n",
       "    </tr>\n",
       "  </thead>\n",
       "  <tbody>\n",
       "    <tr>\n",
       "      <th>2010-12-01 00:00:00</th>\n",
       "      <td>85.0</td>\n",
       "      <td>0</td>\n",
       "      <td>289.567557</td>\n",
       "      <td>5.0</td>\n",
       "    </tr>\n",
       "    <tr>\n",
       "      <th>2010-12-01 01:00:00</th>\n",
       "      <td>77.0</td>\n",
       "      <td>0</td>\n",
       "      <td>260.168520</td>\n",
       "      <td>7.0</td>\n",
       "    </tr>\n",
       "    <tr>\n",
       "      <th>2010-12-01 02:00:00</th>\n",
       "      <td>62.0</td>\n",
       "      <td>0</td>\n",
       "      <td>247.273585</td>\n",
       "      <td>7.0</td>\n",
       "    </tr>\n",
       "    <tr>\n",
       "      <th>2010-12-01 03:00:00</th>\n",
       "      <td>62.0</td>\n",
       "      <td>0</td>\n",
       "      <td>257.955878</td>\n",
       "      <td>2.0</td>\n",
       "    </tr>\n",
       "    <tr>\n",
       "      <th>2010-12-01 04:00:00</th>\n",
       "      <td>96.0</td>\n",
       "      <td>0</td>\n",
       "      <td>258.255081</td>\n",
       "      <td>3.0</td>\n",
       "    </tr>\n",
       "    <tr>\n",
       "      <th>...</th>\n",
       "      <td>...</td>\n",
       "      <td>...</td>\n",
       "      <td>...</td>\n",
       "      <td>...</td>\n",
       "    </tr>\n",
       "    <tr>\n",
       "      <th>2018-11-28 19:00:00</th>\n",
       "      <td>60.0</td>\n",
       "      <td>262</td>\n",
       "      <td>379.637300</td>\n",
       "      <td>3.0</td>\n",
       "    </tr>\n",
       "    <tr>\n",
       "      <th>2018-11-28 20:00:00</th>\n",
       "      <td>56.0</td>\n",
       "      <td>0</td>\n",
       "      <td>369.976634</td>\n",
       "      <td>4.0</td>\n",
       "    </tr>\n",
       "    <tr>\n",
       "      <th>2018-11-28 21:00:00</th>\n",
       "      <td>22.0</td>\n",
       "      <td>0</td>\n",
       "      <td>365.009491</td>\n",
       "      <td>0.0</td>\n",
       "    </tr>\n",
       "    <tr>\n",
       "      <th>2018-11-28 22:00:00</th>\n",
       "      <td>25.0</td>\n",
       "      <td>0</td>\n",
       "      <td>396.966494</td>\n",
       "      <td>4.0</td>\n",
       "    </tr>\n",
       "    <tr>\n",
       "      <th>2018-11-28 23:00:00</th>\n",
       "      <td>74.0</td>\n",
       "      <td>0</td>\n",
       "      <td>489.883188</td>\n",
       "      <td>0.0</td>\n",
       "    </tr>\n",
       "  </tbody>\n",
       "</table>\n",
       "<p>70080 rows × 4 columns</p>\n",
       "</div>"
      ],
      "text/plain": [
       "                     relative_humidity[%]  solar_irridiation[W/m²]  \\\n",
       "DATETIME_NUMERIC                                                     \n",
       "2010-12-01 00:00:00                  85.0                        0   \n",
       "2010-12-01 01:00:00                  77.0                        0   \n",
       "2010-12-01 02:00:00                  62.0                        0   \n",
       "2010-12-01 03:00:00                  62.0                        0   \n",
       "2010-12-01 04:00:00                  96.0                        0   \n",
       "...                                   ...                      ...   \n",
       "2018-11-28 19:00:00                  60.0                      262   \n",
       "2018-11-28 20:00:00                  56.0                        0   \n",
       "2018-11-28 21:00:00                  22.0                        0   \n",
       "2018-11-28 22:00:00                  25.0                        0   \n",
       "2018-11-28 23:00:00                  74.0                        0   \n",
       "\n",
       "                     electricity_demand_values[kw]  wind_speed_cat[M/S]  \n",
       "DATETIME_NUMERIC                                                         \n",
       "2010-12-01 00:00:00                     289.567557                  5.0  \n",
       "2010-12-01 01:00:00                     260.168520                  7.0  \n",
       "2010-12-01 02:00:00                     247.273585                  7.0  \n",
       "2010-12-01 03:00:00                     257.955878                  2.0  \n",
       "2010-12-01 04:00:00                     258.255081                  3.0  \n",
       "...                                            ...                  ...  \n",
       "2018-11-28 19:00:00                     379.637300                  3.0  \n",
       "2018-11-28 20:00:00                     369.976634                  4.0  \n",
       "2018-11-28 21:00:00                     365.009491                  0.0  \n",
       "2018-11-28 22:00:00                     396.966494                  4.0  \n",
       "2018-11-28 23:00:00                     489.883188                  0.0  \n",
       "\n",
       "[70080 rows x 4 columns]"
      ]
     },
     "execution_count": 3,
     "metadata": {},
     "output_type": "execute_result"
    }
   ],
   "source": [
    "df_elec_data = pd.concat([loaded_elec_data[\"df_elec_train\"], loaded_elec_data[\"df_elec_validate\"], loaded_elec_data[\"df_elec_test\"]])\n",
    "\n",
    "df = df_elec_data\n",
    "df"
   ]
  },
  {
   "cell_type": "code",
   "execution_count": 4,
   "id": "474590d0",
   "metadata": {
    "scrolled": true
   },
   "outputs": [
    {
     "name": "stdout",
     "output_type": "stream",
     "text": [
      "<class 'pandas.core.frame.DataFrame'>\n",
      "DatetimeIndex: 70080 entries, 2010-12-01 00:00:00 to 2018-11-28 23:00:00\n",
      "Data columns (total 4 columns):\n",
      " #   Column                         Non-Null Count  Dtype  \n",
      "---  ------                         --------------  -----  \n",
      " 0   relative_humidity[%]           70080 non-null  float64\n",
      " 1   solar_irridiation[W/m²]        70080 non-null  int64  \n",
      " 2   electricity_demand_values[kw]  70080 non-null  float64\n",
      " 3   wind_speed_cat[M/S]            70080 non-null  float64\n",
      "dtypes: float64(3), int64(1)\n",
      "memory usage: 2.7 MB\n"
     ]
    }
   ],
   "source": [
    "df.info()"
   ]
  },
  {
   "cell_type": "code",
   "execution_count": 5,
   "id": "714c2467",
   "metadata": {},
   "outputs": [
    {
     "data": {
      "text/html": [
       "<div>\n",
       "<style scoped>\n",
       "    .dataframe tbody tr th:only-of-type {\n",
       "        vertical-align: middle;\n",
       "    }\n",
       "\n",
       "    .dataframe tbody tr th {\n",
       "        vertical-align: top;\n",
       "    }\n",
       "\n",
       "    .dataframe thead th {\n",
       "        text-align: right;\n",
       "    }\n",
       "</style>\n",
       "<table border=\"1\" class=\"dataframe\">\n",
       "  <thead>\n",
       "    <tr style=\"text-align: right;\">\n",
       "      <th></th>\n",
       "      <th>electricity_demand_values[kw]</th>\n",
       "      <th>relative_humidity[%]</th>\n",
       "      <th>solar_irridiation[W/m²]</th>\n",
       "      <th>wind_speed_cat[M/S]</th>\n",
       "    </tr>\n",
       "    <tr>\n",
       "      <th>DATETIME_NUMERIC</th>\n",
       "      <th></th>\n",
       "      <th></th>\n",
       "      <th></th>\n",
       "      <th></th>\n",
       "    </tr>\n",
       "  </thead>\n",
       "  <tbody>\n",
       "    <tr>\n",
       "      <th>2010-12-01 00:00:00</th>\n",
       "      <td>289.567557</td>\n",
       "      <td>85.0</td>\n",
       "      <td>0</td>\n",
       "      <td>5.0</td>\n",
       "    </tr>\n",
       "    <tr>\n",
       "      <th>2010-12-01 01:00:00</th>\n",
       "      <td>260.168520</td>\n",
       "      <td>77.0</td>\n",
       "      <td>0</td>\n",
       "      <td>7.0</td>\n",
       "    </tr>\n",
       "    <tr>\n",
       "      <th>2010-12-01 02:00:00</th>\n",
       "      <td>247.273585</td>\n",
       "      <td>62.0</td>\n",
       "      <td>0</td>\n",
       "      <td>7.0</td>\n",
       "    </tr>\n",
       "    <tr>\n",
       "      <th>2010-12-01 03:00:00</th>\n",
       "      <td>257.955878</td>\n",
       "      <td>62.0</td>\n",
       "      <td>0</td>\n",
       "      <td>2.0</td>\n",
       "    </tr>\n",
       "    <tr>\n",
       "      <th>2010-12-01 04:00:00</th>\n",
       "      <td>258.255081</td>\n",
       "      <td>96.0</td>\n",
       "      <td>0</td>\n",
       "      <td>3.0</td>\n",
       "    </tr>\n",
       "    <tr>\n",
       "      <th>...</th>\n",
       "      <td>...</td>\n",
       "      <td>...</td>\n",
       "      <td>...</td>\n",
       "      <td>...</td>\n",
       "    </tr>\n",
       "    <tr>\n",
       "      <th>2018-11-28 19:00:00</th>\n",
       "      <td>379.637300</td>\n",
       "      <td>60.0</td>\n",
       "      <td>262</td>\n",
       "      <td>3.0</td>\n",
       "    </tr>\n",
       "    <tr>\n",
       "      <th>2018-11-28 20:00:00</th>\n",
       "      <td>369.976634</td>\n",
       "      <td>56.0</td>\n",
       "      <td>0</td>\n",
       "      <td>4.0</td>\n",
       "    </tr>\n",
       "    <tr>\n",
       "      <th>2018-11-28 21:00:00</th>\n",
       "      <td>365.009491</td>\n",
       "      <td>22.0</td>\n",
       "      <td>0</td>\n",
       "      <td>0.0</td>\n",
       "    </tr>\n",
       "    <tr>\n",
       "      <th>2018-11-28 22:00:00</th>\n",
       "      <td>396.966494</td>\n",
       "      <td>25.0</td>\n",
       "      <td>0</td>\n",
       "      <td>4.0</td>\n",
       "    </tr>\n",
       "    <tr>\n",
       "      <th>2018-11-28 23:00:00</th>\n",
       "      <td>489.883188</td>\n",
       "      <td>74.0</td>\n",
       "      <td>0</td>\n",
       "      <td>0.0</td>\n",
       "    </tr>\n",
       "  </tbody>\n",
       "</table>\n",
       "<p>70080 rows × 4 columns</p>\n",
       "</div>"
      ],
      "text/plain": [
       "                     electricity_demand_values[kw]  relative_humidity[%]  \\\n",
       "DATETIME_NUMERIC                                                           \n",
       "2010-12-01 00:00:00                     289.567557                  85.0   \n",
       "2010-12-01 01:00:00                     260.168520                  77.0   \n",
       "2010-12-01 02:00:00                     247.273585                  62.0   \n",
       "2010-12-01 03:00:00                     257.955878                  62.0   \n",
       "2010-12-01 04:00:00                     258.255081                  96.0   \n",
       "...                                            ...                   ...   \n",
       "2018-11-28 19:00:00                     379.637300                  60.0   \n",
       "2018-11-28 20:00:00                     369.976634                  56.0   \n",
       "2018-11-28 21:00:00                     365.009491                  22.0   \n",
       "2018-11-28 22:00:00                     396.966494                  25.0   \n",
       "2018-11-28 23:00:00                     489.883188                  74.0   \n",
       "\n",
       "                     solar_irridiation[W/m²]  wind_speed_cat[M/S]  \n",
       "DATETIME_NUMERIC                                                   \n",
       "2010-12-01 00:00:00                        0                  5.0  \n",
       "2010-12-01 01:00:00                        0                  7.0  \n",
       "2010-12-01 02:00:00                        0                  7.0  \n",
       "2010-12-01 03:00:00                        0                  2.0  \n",
       "2010-12-01 04:00:00                        0                  3.0  \n",
       "...                                      ...                  ...  \n",
       "2018-11-28 19:00:00                      262                  3.0  \n",
       "2018-11-28 20:00:00                        0                  4.0  \n",
       "2018-11-28 21:00:00                        0                  0.0  \n",
       "2018-11-28 22:00:00                        0                  4.0  \n",
       "2018-11-28 23:00:00                        0                  0.0  \n",
       "\n",
       "[70080 rows x 4 columns]"
      ]
     },
     "execution_count": 5,
     "metadata": {},
     "output_type": "execute_result"
    }
   ],
   "source": [
    "df_input = df[[\"electricity_demand_values[kw]\",\"relative_humidity[%]\", \"solar_irridiation[W/m²]\", \"wind_speed_cat[M/S]\"]]\n",
    "df_input"
   ]
  },
  {
   "cell_type": "code",
   "execution_count": 6,
   "id": "eedf677d",
   "metadata": {},
   "outputs": [],
   "source": [
    "scaler = MinMaxScaler()\n",
    "data_scaled = scaler.fit_transform(df_input)"
   ]
  },
  {
   "cell_type": "code",
   "execution_count": 7,
   "id": "592df327",
   "metadata": {},
   "outputs": [
    {
     "data": {
      "text/plain": [
       "array([[0.11934218, 0.84375   , 0.        , 0.5       ],\n",
       "       [0.09947724, 0.76041667, 0.        , 0.7       ],\n",
       "       [0.09076413, 0.60416667, 0.        , 0.7       ],\n",
       "       ...,\n",
       "       [0.17031834, 0.1875    , 0.        , 0.        ],\n",
       "       [0.1919117 , 0.21875   , 0.        , 0.4       ],\n",
       "       [0.25469556, 0.72916667, 0.        , 0.        ]])"
      ]
     },
     "execution_count": 7,
     "metadata": {},
     "output_type": "execute_result"
    }
   ],
   "source": [
    "data_scaled"
   ]
  },
  {
   "cell_type": "code",
   "execution_count": 8,
   "id": "9206b80d",
   "metadata": {},
   "outputs": [],
   "source": [
    "features = data_scaled\n",
    "target=data_scaled[:,0]"
   ]
  },
  {
   "cell_type": "code",
   "execution_count": 9,
   "id": "431cf6bb",
   "metadata": {},
   "outputs": [
    {
     "data": {
      "text/plain": [
       "(array([[[0.11934218, 0.84375   , 0.        , 0.5       ],\n",
       "         [0.09947724, 0.76041667, 0.        , 0.7       ]]]),\n",
       " array([0.09076413]))"
      ]
     },
     "execution_count": 9,
     "metadata": {},
     "output_type": "execute_result"
    }
   ],
   "source": [
    "TimeseriesGenerator(features, target, length=2, sampling_rate=1, batch_size=1)[0]"
   ]
  },
  {
   "cell_type": "code",
   "execution_count": 10,
   "id": "99ae11f1",
   "metadata": {},
   "outputs": [],
   "source": [
    "X_train, X_test, y_train, y_test = train_test_split(features, target, test_size=0.2, random_state=42, shuffle=False)"
   ]
  },
  {
   "cell_type": "code",
   "execution_count": 11,
   "id": "bf30a714",
   "metadata": {},
   "outputs": [
    {
     "data": {
      "text/plain": [
       "(56064, 4)"
      ]
     },
     "execution_count": 11,
     "metadata": {},
     "output_type": "execute_result"
    }
   ],
   "source": [
    "X_train.shape"
   ]
  },
  {
   "cell_type": "code",
   "execution_count": 12,
   "id": "49e67676",
   "metadata": {},
   "outputs": [
    {
     "data": {
      "text/plain": [
       "(14016, 4)"
      ]
     },
     "execution_count": 12,
     "metadata": {},
     "output_type": "execute_result"
    }
   ],
   "source": [
    "X_test.shape"
   ]
  },
  {
   "cell_type": "code",
   "execution_count": 13,
   "id": "47fd794b",
   "metadata": {},
   "outputs": [],
   "source": [
    "win_length = 120 # 24 hours * 5 days -> 120 datapoints\n",
    "batch_size = 32\n",
    "num_feature = 4\n",
    "train_generator = TimeseriesGenerator(X_train, y_train, length=win_length, sampling_rate=1, batch_size=batch_size)\n",
    "test_generator = TimeseriesGenerator(X_test, y_test, length=win_length, sampling_rate=1, batch_size=batch_size)"
   ]
  },
  {
   "cell_type": "code",
   "execution_count": 14,
   "id": "06a35de8",
   "metadata": {},
   "outputs": [
    {
     "data": {
      "text/plain": [
       "(array([[[0.11934218, 0.84375   , 0.        , 0.5       ],\n",
       "         [0.09947724, 0.76041667, 0.        , 0.7       ],\n",
       "         [0.09076413, 0.60416667, 0.        , 0.7       ],\n",
       "         ...,\n",
       "         [0.33543328, 0.20833333, 0.        , 1.        ],\n",
       "         [0.27321137, 0.20833333, 0.        , 1.        ],\n",
       "         [0.21218596, 0.54166667, 0.        , 0.8       ]],\n",
       " \n",
       "        [[0.09947724, 0.76041667, 0.        , 0.7       ],\n",
       "         [0.09076413, 0.60416667, 0.        , 0.7       ],\n",
       "         [0.09798216, 0.60416667, 0.        , 0.2       ],\n",
       "         ...,\n",
       "         [0.27321137, 0.20833333, 0.        , 1.        ],\n",
       "         [0.21218596, 0.54166667, 0.        , 0.8       ],\n",
       "         [0.15137781, 0.67708333, 0.        , 0.5       ]],\n",
       " \n",
       "        [[0.09076413, 0.60416667, 0.        , 0.7       ],\n",
       "         [0.09798216, 0.60416667, 0.        , 0.2       ],\n",
       "         [0.09818433, 0.95833333, 0.        , 0.3       ],\n",
       "         ...,\n",
       "         [0.21218596, 0.54166667, 0.        , 0.8       ],\n",
       "         [0.15137781, 0.67708333, 0.        , 0.5       ],\n",
       "         [0.12680772, 0.34375   , 0.        , 0.4       ]],\n",
       " \n",
       "        ...,\n",
       " \n",
       "        [[0.05870718, 0.89583333, 0.        , 0.4       ],\n",
       "         [0.09881758, 0.59375   , 0.        , 0.5       ],\n",
       "         [0.16419703, 0.58333333, 0.70100143, 0.9       ],\n",
       "         ...,\n",
       "         [0.10630215, 0.45833333, 0.        , 0.7       ],\n",
       "         [0.10618845, 0.86458333, 0.        , 0.4       ],\n",
       "         [0.1054726 , 0.83333333, 0.        , 0.3       ]],\n",
       " \n",
       "        [[0.09881758, 0.59375   , 0.        , 0.5       ],\n",
       "         [0.16419703, 0.58333333, 0.70100143, 0.9       ],\n",
       "         [0.15113634, 0.89583333, 0.94420601, 0.4       ],\n",
       "         ...,\n",
       "         [0.10618845, 0.86458333, 0.        , 0.4       ],\n",
       "         [0.1054726 , 0.83333333, 0.        , 0.3       ],\n",
       "         [0.11674974, 0.46875   , 0.        , 0.6       ]],\n",
       " \n",
       "        [[0.16419703, 0.58333333, 0.70100143, 0.9       ],\n",
       "         [0.15113634, 0.89583333, 0.94420601, 0.4       ],\n",
       "         [0.10680968, 0.58333333, 0.69670959, 0.9       ],\n",
       "         ...,\n",
       "         [0.1054726 , 0.83333333, 0.        , 0.3       ],\n",
       "         [0.11674974, 0.46875   , 0.        , 0.6       ],\n",
       "         [0.16962738, 0.52083333, 0.        , 0.5       ]]]),\n",
       " array([0.15137781, 0.12680772, 0.11700139, 0.11374094, 0.1104831 ,\n",
       "        0.12000769, 0.16038324, 0.22943363, 0.21379494, 0.16418409,\n",
       "        0.14924222, 0.13524149, 0.11977986, 0.10926284, 0.10358185,\n",
       "        0.11463786, 0.16686337, 0.2785079 , 0.3464544 , 0.35209944,\n",
       "        0.32453109, 0.29467789, 0.23685836, 0.1863232 , 0.13425174,\n",
       "        0.11367234, 0.10630215, 0.10618845, 0.1054726 , 0.11674974,\n",
       "        0.16962738, 0.229263  ]))"
      ]
     },
     "execution_count": 14,
     "metadata": {},
     "output_type": "execute_result"
    }
   ],
   "source": [
    "train_generator[0]"
   ]
  },
  {
   "cell_type": "code",
   "execution_count": 15,
   "id": "50cac543",
   "metadata": {},
   "outputs": [],
   "source": [
    "from tensorflow.keras import Sequential\n",
    "from tensorflow.keras.layers import LSTM, LeakyReLU, Dropout, Dense\n",
    "from tensorflow.keras.callbacks import EarlyStopping\n",
    "from tensorflow.keras.losses import MeanSquaredError\n",
    "from tensorflow.keras.metrics import MeanAbsoluteError\n",
    "from tensorflow.keras.optimizers import Adam"
   ]
  },
  {
   "cell_type": "code",
   "execution_count": 16,
   "id": "f7241f0e",
   "metadata": {},
   "outputs": [
    {
     "name": "stderr",
     "output_type": "stream",
     "text": [
      "2023-10-31 12:49:54.664985: I tensorflow/core/platform/cpu_feature_guard.cc:193] This TensorFlow binary is optimized with oneAPI Deep Neural Network Library (oneDNN) to use the following CPU instructions in performance-critical operations:  SSE4.1 SSE4.2 AVX AVX2 FMA\n",
      "To enable them in other operations, rebuild TensorFlow with the appropriate compiler flags.\n"
     ]
    }
   ],
   "source": [
    "model = Sequential()\n",
    "model.add(LSTM(128, input_shape=(win_length, num_feature), return_sequences=True))\n",
    "model.add(LeakyReLU(alpha=0.5))\n",
    "model.add(LSTM(128, return_sequences=True))\n",
    "model.add(LeakyReLU(alpha=0.5))\n",
    "model.add(Dropout(0.3))\n",
    "model.add(LSTM(64, return_sequences=False))\n",
    "model.add(Dropout(0.3))\n",
    "model.add(Dense(1))"
   ]
  },
  {
   "cell_type": "code",
   "execution_count": 17,
   "id": "d13edf43",
   "metadata": {},
   "outputs": [
    {
     "name": "stdout",
     "output_type": "stream",
     "text": [
      "Model: \"sequential\"\n",
      "_________________________________________________________________\n",
      " Layer (type)                Output Shape              Param #   \n",
      "=================================================================\n",
      " lstm (LSTM)                 (None, 120, 128)          68096     \n",
      "                                                                 \n",
      " leaky_re_lu (LeakyReLU)     (None, 120, 128)          0         \n",
      "                                                                 \n",
      " lstm_1 (LSTM)               (None, 120, 128)          131584    \n",
      "                                                                 \n",
      " leaky_re_lu_1 (LeakyReLU)   (None, 120, 128)          0         \n",
      "                                                                 \n",
      " dropout (Dropout)           (None, 120, 128)          0         \n",
      "                                                                 \n",
      " lstm_2 (LSTM)               (None, 64)                49408     \n",
      "                                                                 \n",
      " dropout_1 (Dropout)         (None, 64)                0         \n",
      "                                                                 \n",
      " dense (Dense)               (None, 1)                 65        \n",
      "                                                                 \n",
      "=================================================================\n",
      "Total params: 249,153\n",
      "Trainable params: 249,153\n",
      "Non-trainable params: 0\n",
      "_________________________________________________________________\n"
     ]
    }
   ],
   "source": [
    "model.summary()"
   ]
  },
  {
   "cell_type": "code",
   "execution_count": 18,
   "id": "5a716864",
   "metadata": {},
   "outputs": [
    {
     "name": "stdout",
     "output_type": "stream",
     "text": [
      "Epoch 1/50\n",
      "1749/1749 [==============================] - 253s 143ms/step - loss: 0.0055 - mean_absolute_error: 0.0503 - val_loss: 0.0079 - val_mean_absolute_error: 0.0637\n",
      "Epoch 2/50\n",
      "1749/1749 [==============================] - 265s 152ms/step - loss: 0.0015 - mean_absolute_error: 0.0274 - val_loss: 0.0021 - val_mean_absolute_error: 0.0334\n",
      "Epoch 3/50\n",
      "1749/1749 [==============================] - 266s 152ms/step - loss: 0.0010 - mean_absolute_error: 0.0223 - val_loss: 0.0018 - val_mean_absolute_error: 0.0293\n",
      "Epoch 4/50\n",
      "1749/1749 [==============================] - 265s 152ms/step - loss: 8.7834e-04 - mean_absolute_error: 0.0210 - val_loss: 0.0017 - val_mean_absolute_error: 0.0282\n",
      "Epoch 5/50\n",
      "1749/1749 [==============================] - 258s 147ms/step - loss: 8.2555e-04 - mean_absolute_error: 0.0202 - val_loss: 0.0012 - val_mean_absolute_error: 0.0238\n",
      "Epoch 6/50\n",
      "1749/1749 [==============================] - 251s 143ms/step - loss: 7.5434e-04 - mean_absolute_error: 0.0190 - val_loss: 9.8402e-04 - val_mean_absolute_error: 0.0216\n",
      "Epoch 7/50\n",
      "1749/1749 [==============================] - 261s 149ms/step - loss: 7.1135e-04 - mean_absolute_error: 0.0182 - val_loss: 9.1995e-04 - val_mean_absolute_error: 0.0221\n",
      "Epoch 8/50\n",
      "1749/1749 [==============================] - 263s 150ms/step - loss: 6.7770e-04 - mean_absolute_error: 0.0175 - val_loss: 7.9206e-04 - val_mean_absolute_error: 0.0195\n",
      "Epoch 9/50\n",
      "1749/1749 [==============================] - 260s 148ms/step - loss: 6.3531e-04 - mean_absolute_error: 0.0169 - val_loss: 8.1786e-04 - val_mean_absolute_error: 0.0193\n",
      "Epoch 10/50\n",
      "1749/1749 [==============================] - 264s 151ms/step - loss: 6.2767e-04 - mean_absolute_error: 0.0169 - val_loss: 7.4721e-04 - val_mean_absolute_error: 0.0183\n",
      "Epoch 11/50\n",
      "1749/1749 [==============================] - 262s 150ms/step - loss: 6.1853e-04 - mean_absolute_error: 0.0165 - val_loss: 9.0968e-04 - val_mean_absolute_error: 0.0198\n",
      "Epoch 12/50\n",
      "1749/1749 [==============================] - 263s 150ms/step - loss: 5.9732e-04 - mean_absolute_error: 0.0163 - val_loss: 8.7357e-04 - val_mean_absolute_error: 0.0196\n"
     ]
    }
   ],
   "source": [
    "early_stopping = EarlyStopping(monitor=\"val_loss\", patience=2, mode=\"min\")\n",
    "\n",
    "model.compile(loss=MeanSquaredError(), optimizer=Adam(), metrics=[MeanAbsoluteError()])\n",
    "\n",
    "history = model.fit(train_generator, epochs=50, validation_data=test_generator, shuffle=False, callbacks=[early_stopping])"
   ]
  },
  {
   "cell_type": "code",
   "execution_count": 20,
   "id": "30830045",
   "metadata": {},
   "outputs": [
    {
     "name": "stdout",
     "output_type": "stream",
     "text": [
      "test loss, test acc: [0.0008735725423321128, 0.019623590633273125]\n"
     ]
    }
   ],
   "source": [
    "result = model.evaluate(test_generator, verbose=0)\n",
    "print(\"test loss, test acc:\", result)"
   ]
  },
  {
   "cell_type": "code",
   "execution_count": 21,
   "id": "54fe4d45",
   "metadata": {},
   "outputs": [
    {
     "name": "stdout",
     "output_type": "stream",
     "text": [
      "435/435 [==============================] - 23s 53ms/step\n"
     ]
    }
   ],
   "source": [
    "predictions=model.predict(test_generator)"
   ]
  },
  {
   "cell_type": "code",
   "execution_count": 22,
   "id": "2f4f1257",
   "metadata": {},
   "outputs": [
    {
     "data": {
      "text/plain": [
       "13896"
      ]
     },
     "execution_count": 22,
     "metadata": {},
     "output_type": "execute_result"
    }
   ],
   "source": [
    "predictions.shape[0]"
   ]
  },
  {
   "cell_type": "code",
   "execution_count": 23,
   "id": "4d425900",
   "metadata": {},
   "outputs": [
    {
     "data": {
      "text/plain": [
       "(13896, 3)"
      ]
     },
     "execution_count": 23,
     "metadata": {},
     "output_type": "execute_result"
    }
   ],
   "source": [
    "X_test[:,1:][win_length:].shape"
   ]
  },
  {
   "cell_type": "code",
   "execution_count": 24,
   "id": "3bc2c76f",
   "metadata": {},
   "outputs": [
    {
     "data": {
      "text/plain": [
       "(13896, 1)"
      ]
     },
     "execution_count": 24,
     "metadata": {},
     "output_type": "execute_result"
    }
   ],
   "source": [
    "predictions.shape"
   ]
  },
  {
   "cell_type": "code",
   "execution_count": 25,
   "id": "4e33455c",
   "metadata": {},
   "outputs": [
    {
     "data": {
      "text/html": [
       "<div>\n",
       "<style scoped>\n",
       "    .dataframe tbody tr th:only-of-type {\n",
       "        vertical-align: middle;\n",
       "    }\n",
       "\n",
       "    .dataframe tbody tr th {\n",
       "        vertical-align: top;\n",
       "    }\n",
       "\n",
       "    .dataframe thead th {\n",
       "        text-align: right;\n",
       "    }\n",
       "</style>\n",
       "<table border=\"1\" class=\"dataframe\">\n",
       "  <thead>\n",
       "    <tr style=\"text-align: right;\">\n",
       "      <th></th>\n",
       "      <th>0</th>\n",
       "      <th>0</th>\n",
       "      <th>1</th>\n",
       "      <th>2</th>\n",
       "    </tr>\n",
       "  </thead>\n",
       "  <tbody>\n",
       "    <tr>\n",
       "      <th>0</th>\n",
       "      <td>0.146739</td>\n",
       "      <td>0.739583</td>\n",
       "      <td>0.000000</td>\n",
       "      <td>0.3</td>\n",
       "    </tr>\n",
       "    <tr>\n",
       "      <th>1</th>\n",
       "      <td>0.185222</td>\n",
       "      <td>0.302083</td>\n",
       "      <td>0.000000</td>\n",
       "      <td>0.0</td>\n",
       "    </tr>\n",
       "    <tr>\n",
       "      <th>2</th>\n",
       "      <td>0.203303</td>\n",
       "      <td>0.354167</td>\n",
       "      <td>0.000000</td>\n",
       "      <td>0.3</td>\n",
       "    </tr>\n",
       "    <tr>\n",
       "      <th>3</th>\n",
       "      <td>0.169103</td>\n",
       "      <td>0.739583</td>\n",
       "      <td>0.000000</td>\n",
       "      <td>0.3</td>\n",
       "    </tr>\n",
       "    <tr>\n",
       "      <th>4</th>\n",
       "      <td>0.095453</td>\n",
       "      <td>0.791667</td>\n",
       "      <td>0.000000</td>\n",
       "      <td>0.4</td>\n",
       "    </tr>\n",
       "    <tr>\n",
       "      <th>...</th>\n",
       "      <td>...</td>\n",
       "      <td>...</td>\n",
       "      <td>...</td>\n",
       "      <td>...</td>\n",
       "    </tr>\n",
       "    <tr>\n",
       "      <th>13891</th>\n",
       "      <td>0.185864</td>\n",
       "      <td>0.583333</td>\n",
       "      <td>0.374821</td>\n",
       "      <td>0.3</td>\n",
       "    </tr>\n",
       "    <tr>\n",
       "      <th>13892</th>\n",
       "      <td>0.168905</td>\n",
       "      <td>0.541667</td>\n",
       "      <td>0.000000</td>\n",
       "      <td>0.4</td>\n",
       "    </tr>\n",
       "    <tr>\n",
       "      <th>13893</th>\n",
       "      <td>0.167168</td>\n",
       "      <td>0.187500</td>\n",
       "      <td>0.000000</td>\n",
       "      <td>0.0</td>\n",
       "    </tr>\n",
       "    <tr>\n",
       "      <th>13894</th>\n",
       "      <td>0.179131</td>\n",
       "      <td>0.218750</td>\n",
       "      <td>0.000000</td>\n",
       "      <td>0.4</td>\n",
       "    </tr>\n",
       "    <tr>\n",
       "      <th>13895</th>\n",
       "      <td>0.226831</td>\n",
       "      <td>0.729167</td>\n",
       "      <td>0.000000</td>\n",
       "      <td>0.0</td>\n",
       "    </tr>\n",
       "  </tbody>\n",
       "</table>\n",
       "<p>13896 rows × 4 columns</p>\n",
       "</div>"
      ],
      "text/plain": [
       "              0         0         1    2\n",
       "0      0.146739  0.739583  0.000000  0.3\n",
       "1      0.185222  0.302083  0.000000  0.0\n",
       "2      0.203303  0.354167  0.000000  0.3\n",
       "3      0.169103  0.739583  0.000000  0.3\n",
       "4      0.095453  0.791667  0.000000  0.4\n",
       "...         ...       ...       ...  ...\n",
       "13891  0.185864  0.583333  0.374821  0.3\n",
       "13892  0.168905  0.541667  0.000000  0.4\n",
       "13893  0.167168  0.187500  0.000000  0.0\n",
       "13894  0.179131  0.218750  0.000000  0.4\n",
       "13895  0.226831  0.729167  0.000000  0.0\n",
       "\n",
       "[13896 rows x 4 columns]"
      ]
     },
     "execution_count": 25,
     "metadata": {},
     "output_type": "execute_result"
    }
   ],
   "source": [
    "df_pred = pd.concat([pd.DataFrame(predictions), pd.DataFrame(X_test[:,1:][win_length:])], axis=1)\n",
    "df_pred"
   ]
  },
  {
   "cell_type": "code",
   "execution_count": 26,
   "id": "edfff4f1",
   "metadata": {},
   "outputs": [],
   "source": [
    "rev_trans = scaler.inverse_transform(df_pred)"
   ]
  },
  {
   "cell_type": "code",
   "execution_count": 27,
   "id": "bdd997b5",
   "metadata": {},
   "outputs": [
    {
     "data": {
      "text/plain": [
       "array([[330.11287755,  75.        ,   0.        ,   3.        ],\n",
       "       [387.06680535,  33.        ,   0.        ,   0.        ],\n",
       "       [413.82485535,  38.        ,   0.        ,   3.        ],\n",
       "       ...,\n",
       "       [360.34783309,  22.        ,   0.        ,   0.        ],\n",
       "       [378.05128996,  25.        ,   0.        ,   4.        ],\n",
       "       [448.64564691,  74.        ,   0.        ,   0.        ]])"
      ]
     },
     "execution_count": 27,
     "metadata": {},
     "output_type": "execute_result"
    }
   ],
   "source": [
    "rev_trans"
   ]
  },
  {
   "cell_type": "code",
   "execution_count": 28,
   "id": "44a520ad",
   "metadata": {},
   "outputs": [],
   "source": [
    "df_final=df_input[predictions.shape[0]*-1:]"
   ]
  },
  {
   "cell_type": "code",
   "execution_count": 29,
   "id": "3c1b18d5",
   "metadata": {},
   "outputs": [
    {
     "data": {
      "text/plain": [
       "electricity_demand_values[kw]    13896\n",
       "relative_humidity[%]             13896\n",
       "solar_irridiation[W/m²]          13896\n",
       "wind_speed_cat[M/S]              13896\n",
       "dtype: int64"
      ]
     },
     "execution_count": 29,
     "metadata": {},
     "output_type": "execute_result"
    }
   ],
   "source": [
    "df_final.count()"
   ]
  },
  {
   "cell_type": "code",
   "execution_count": 30,
   "id": "296ad64b",
   "metadata": {},
   "outputs": [
    {
     "name": "stderr",
     "output_type": "stream",
     "text": [
      "/tmp/ipykernel_3536/3520039487.py:1: SettingWithCopyWarning: \n",
      "A value is trying to be set on a copy of a slice from a DataFrame.\n",
      "Try using .loc[row_indexer,col_indexer] = value instead\n",
      "\n",
      "See the caveats in the documentation: https://pandas.pydata.org/pandas-docs/stable/user_guide/indexing.html#returning-a-view-versus-a-copy\n",
      "  df_final[\"Elec_pred\"]=rev_trans[:,0]\n"
     ]
    }
   ],
   "source": [
    "df_final[\"Elec_pred\"]=rev_trans[:,0]"
   ]
  },
  {
   "cell_type": "code",
   "execution_count": 31,
   "id": "e088faab",
   "metadata": {},
   "outputs": [
    {
     "data": {
      "text/html": [
       "<div>\n",
       "<style scoped>\n",
       "    .dataframe tbody tr th:only-of-type {\n",
       "        vertical-align: middle;\n",
       "    }\n",
       "\n",
       "    .dataframe tbody tr th {\n",
       "        vertical-align: top;\n",
       "    }\n",
       "\n",
       "    .dataframe thead th {\n",
       "        text-align: right;\n",
       "    }\n",
       "</style>\n",
       "<table border=\"1\" class=\"dataframe\">\n",
       "  <thead>\n",
       "    <tr style=\"text-align: right;\">\n",
       "      <th></th>\n",
       "      <th>electricity_demand_values[kw]</th>\n",
       "      <th>relative_humidity[%]</th>\n",
       "      <th>solar_irridiation[W/m²]</th>\n",
       "      <th>wind_speed_cat[M/S]</th>\n",
       "      <th>Elec_pred</th>\n",
       "    </tr>\n",
       "    <tr>\n",
       "      <th>DATETIME_NUMERIC</th>\n",
       "      <th></th>\n",
       "      <th></th>\n",
       "      <th></th>\n",
       "      <th></th>\n",
       "      <th></th>\n",
       "    </tr>\n",
       "  </thead>\n",
       "  <tbody>\n",
       "    <tr>\n",
       "      <th>2017-04-29 00:00:00</th>\n",
       "      <td>322.419595</td>\n",
       "      <td>75.0</td>\n",
       "      <td>0</td>\n",
       "      <td>3.0</td>\n",
       "      <td>330.112878</td>\n",
       "    </tr>\n",
       "    <tr>\n",
       "      <th>2017-04-29 01:00:00</th>\n",
       "      <td>392.613708</td>\n",
       "      <td>33.0</td>\n",
       "      <td>0</td>\n",
       "      <td>0.0</td>\n",
       "      <td>387.066805</td>\n",
       "    </tr>\n",
       "    <tr>\n",
       "      <th>2017-04-29 02:00:00</th>\n",
       "      <td>438.274258</td>\n",
       "      <td>38.0</td>\n",
       "      <td>0</td>\n",
       "      <td>3.0</td>\n",
       "      <td>413.824855</td>\n",
       "    </tr>\n",
       "    <tr>\n",
       "      <th>2017-04-29 03:00:00</th>\n",
       "      <td>357.794028</td>\n",
       "      <td>75.0</td>\n",
       "      <td>0</td>\n",
       "      <td>3.0</td>\n",
       "      <td>363.210323</td>\n",
       "    </tr>\n",
       "    <tr>\n",
       "      <th>2017-04-29 04:00:00</th>\n",
       "      <td>271.821686</td>\n",
       "      <td>80.0</td>\n",
       "      <td>0</td>\n",
       "      <td>4.0</td>\n",
       "      <td>254.213429</td>\n",
       "    </tr>\n",
       "    <tr>\n",
       "      <th>...</th>\n",
       "      <td>...</td>\n",
       "      <td>...</td>\n",
       "      <td>...</td>\n",
       "      <td>...</td>\n",
       "      <td>...</td>\n",
       "    </tr>\n",
       "    <tr>\n",
       "      <th>2018-11-28 19:00:00</th>\n",
       "      <td>379.637300</td>\n",
       "      <td>60.0</td>\n",
       "      <td>262</td>\n",
       "      <td>3.0</td>\n",
       "      <td>388.016823</td>\n",
       "    </tr>\n",
       "    <tr>\n",
       "      <th>2018-11-28 20:00:00</th>\n",
       "      <td>369.976634</td>\n",
       "      <td>56.0</td>\n",
       "      <td>0</td>\n",
       "      <td>4.0</td>\n",
       "      <td>362.918518</td>\n",
       "    </tr>\n",
       "    <tr>\n",
       "      <th>2018-11-28 21:00:00</th>\n",
       "      <td>365.009491</td>\n",
       "      <td>22.0</td>\n",
       "      <td>0</td>\n",
       "      <td>0.0</td>\n",
       "      <td>360.347833</td>\n",
       "    </tr>\n",
       "    <tr>\n",
       "      <th>2018-11-28 22:00:00</th>\n",
       "      <td>396.966494</td>\n",
       "      <td>25.0</td>\n",
       "      <td>0</td>\n",
       "      <td>4.0</td>\n",
       "      <td>378.051290</td>\n",
       "    </tr>\n",
       "    <tr>\n",
       "      <th>2018-11-28 23:00:00</th>\n",
       "      <td>489.883188</td>\n",
       "      <td>74.0</td>\n",
       "      <td>0</td>\n",
       "      <td>0.0</td>\n",
       "      <td>448.645647</td>\n",
       "    </tr>\n",
       "  </tbody>\n",
       "</table>\n",
       "<p>13896 rows × 5 columns</p>\n",
       "</div>"
      ],
      "text/plain": [
       "                     electricity_demand_values[kw]  relative_humidity[%]  \\\n",
       "DATETIME_NUMERIC                                                           \n",
       "2017-04-29 00:00:00                     322.419595                  75.0   \n",
       "2017-04-29 01:00:00                     392.613708                  33.0   \n",
       "2017-04-29 02:00:00                     438.274258                  38.0   \n",
       "2017-04-29 03:00:00                     357.794028                  75.0   \n",
       "2017-04-29 04:00:00                     271.821686                  80.0   \n",
       "...                                            ...                   ...   \n",
       "2018-11-28 19:00:00                     379.637300                  60.0   \n",
       "2018-11-28 20:00:00                     369.976634                  56.0   \n",
       "2018-11-28 21:00:00                     365.009491                  22.0   \n",
       "2018-11-28 22:00:00                     396.966494                  25.0   \n",
       "2018-11-28 23:00:00                     489.883188                  74.0   \n",
       "\n",
       "                     solar_irridiation[W/m²]  wind_speed_cat[M/S]   Elec_pred  \n",
       "DATETIME_NUMERIC                                                               \n",
       "2017-04-29 00:00:00                        0                  3.0  330.112878  \n",
       "2017-04-29 01:00:00                        0                  0.0  387.066805  \n",
       "2017-04-29 02:00:00                        0                  3.0  413.824855  \n",
       "2017-04-29 03:00:00                        0                  3.0  363.210323  \n",
       "2017-04-29 04:00:00                        0                  4.0  254.213429  \n",
       "...                                      ...                  ...         ...  \n",
       "2018-11-28 19:00:00                      262                  3.0  388.016823  \n",
       "2018-11-28 20:00:00                        0                  4.0  362.918518  \n",
       "2018-11-28 21:00:00                        0                  0.0  360.347833  \n",
       "2018-11-28 22:00:00                        0                  4.0  378.051290  \n",
       "2018-11-28 23:00:00                        0                  0.0  448.645647  \n",
       "\n",
       "[13896 rows x 5 columns]"
      ]
     },
     "execution_count": 31,
     "metadata": {},
     "output_type": "execute_result"
    }
   ],
   "source": [
    "df_final"
   ]
  },
  {
   "cell_type": "code",
   "execution_count": 32,
   "id": "df89a997",
   "metadata": {},
   "outputs": [],
   "source": [
    "df[[\"Elec_pred\"]] = df_final[[\"Elec_pred\"]]"
   ]
  },
  {
   "cell_type": "code",
   "execution_count": 36,
   "id": "54e649b2-bcae-4cf4-b392-f4009ff837e4",
   "metadata": {},
   "outputs": [
    {
     "data": {
      "text/plain": [
       "<Axes: xlabel='DATETIME_NUMERIC'>"
      ]
     },
     "execution_count": 36,
     "metadata": {},
     "output_type": "execute_result"
    },
    {
     "data": {
      "image/png": "[encoded data removed]",
      "text/plain": [
       "<Figure size 640x480 with 1 Axes>"
      ]
     },
     "metadata": {},
     "output_type": "display_data"
    },
    {
     "data": {
      "image/png": "[encoded data removed]",
      "text/plain": [
       "<Figure size 640x480 with 1 Axes>"
      ]
     },
     "metadata": {},
     "output_type": "display_data"
    }
   ],
   "source": [
    "df[[\"electricity_demand_values[kw]\", \"Elec_pred\"]][-1200:].plot() # plot last 1200 Units -> 50 days (24 hours * 5 days * 10)\n",
    "df[[\"electricity_demand_values[kw]\", \"Elec_pred\"]][-120:].plot() # plot last 120 Units -> 5 days (24 hours * 5 days )"
   ]
  },
  {
   "cell_type": "code",
   "execution_count": 37,
   "id": "a718d5ec-4142-4516-a184-7867b990df23",
   "metadata": {},
   "outputs": [
    {
     "name": "stderr",
     "output_type": "stream",
     "text": [
      "WARNING:absl:Found untraced functions such as _update_step_xla, lstm_cell_layer_call_fn, lstm_cell_layer_call_and_return_conditional_losses, lstm_cell_1_layer_call_fn, lstm_cell_1_layer_call_and_return_conditional_losses while saving (showing 5 of 7). These functions will not be directly callable after loading.\n"
     ]
    },
    {
     "name": "stdout",
     "output_type": "stream",
     "text": [
      "INFO:tensorflow:Assets written to: ./model/lstm_1/assets\n"
     ]
    },
    {
     "name": "stderr",
     "output_type": "stream",
     "text": [
      "INFO:tensorflow:Assets written to: ./model/lstm_1/assets\n"
     ]
    }
   ],
   "source": [
    "model.save(\"./model/lstm_1\")"
   ]
  },
  {
   "cell_type": "code",
   "execution_count": null,
   "id": "f1be3b9c-5f2f-40b2-bc55-91b047408ea0",
   "metadata": {},
   "outputs": [],
   "source": []
  }
 ],
 "metadata": {
  "kernelspec": {
   "display_name": "Python 3 (ipykernel)",
   "language": "python",
   "name": "python3"
  },
  "language_info": {
   "codemirror_mode": {
    "name": "ipython",
    "version": 3
   },
   "file_extension": ".py",
   "mimetype": "text/x-python",
   "name": "python",
   "nbconvert_exporter": "python",
   "pygments_lexer": "ipython3",
   "version": "3.10.0"
  }
 },
 "nbformat": 4,
 "nbformat_minor": 5
}
